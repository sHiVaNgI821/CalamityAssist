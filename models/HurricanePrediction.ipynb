{
  "nbformat": 4,
  "nbformat_minor": 0,
  "metadata": {
    "colab": {
      "provenance": []
    },
    "kernelspec": {
      "name": "python3",
      "display_name": "Python 3"
    },
    "language_info": {
      "name": "python"
    }
  },
  "cells": [
    {
      "cell_type": "code",
      "execution_count": 1,
      "metadata": {
        "id": "F-eBrOM7bsxd"
      },
      "outputs": [],
      "source": [
        "import numpy as np\n",
        "import pandas as pd\n",
        "\n",
        "import warnings\n",
        "warnings.filterwarnings('ignore', category=FutureWarning)\n",
        "\n",
        "np.random.seed(33)"
      ]
    },
    {
      "cell_type": "code",
      "source": [
        "df = pd.read_csv('atlantic.csv')\n",
        "df"
      ],
      "metadata": {
        "colab": {
          "base_uri": "https://localhost:8080/",
          "height": 522
        },
        "id": "qwsr9Incdk4-",
        "outputId": "49e94454-0fb7-4c24-8e56-1c67021707d0"
      },
      "execution_count": 4,
      "outputs": [
        {
          "output_type": "execute_result",
          "data": {
            "text/plain": [
              "             ID                 Name      Date  Time Event Status Latitude  \\\n",
              "0      AL011851              UNNAMED  18510625     0           HU    28.0N   \n",
              "1      AL011851              UNNAMED  18510625   600           HU    28.0N   \n",
              "2      AL011851              UNNAMED  18510625  1200           HU    28.0N   \n",
              "3      AL011851              UNNAMED  18510625  1800           HU    28.1N   \n",
              "4      AL011851              UNNAMED  18510625  2100     L     HU    28.2N   \n",
              "...         ...                  ...       ...   ...   ...    ...      ...   \n",
              "49100  AL122015                 KATE  20151112  1200           EX    41.3N   \n",
              "49101  AL122015                 KATE  20151112  1800           EX    41.9N   \n",
              "49102  AL122015                 KATE  20151113     0           EX    41.5N   \n",
              "49103  AL122015                 KATE  20151113   600           EX    40.8N   \n",
              "49104  AL122015                 KATE  20151113  1200           EX    40.7N   \n",
              "\n",
              "      Longitude  Maximum Wind  Minimum Pressure  ...  Low Wind SW  \\\n",
              "0         94.8W            80              -999  ...         -999   \n",
              "1         95.4W            80              -999  ...         -999   \n",
              "2         96.0W            80              -999  ...         -999   \n",
              "3         96.5W            80              -999  ...         -999   \n",
              "4         96.8W            80              -999  ...         -999   \n",
              "...         ...           ...               ...  ...          ...   \n",
              "49100     50.4W            55               981  ...          180   \n",
              "49101     49.9W            55               983  ...          180   \n",
              "49102     49.2W            50               985  ...          200   \n",
              "49103     47.5W            45               985  ...          180   \n",
              "49104     45.4W            45               987  ...          150   \n",
              "\n",
              "       Low Wind NW  Moderate Wind NE  Moderate Wind SE  Moderate Wind SW  \\\n",
              "0             -999              -999              -999              -999   \n",
              "1             -999              -999              -999              -999   \n",
              "2             -999              -999              -999              -999   \n",
              "3             -999              -999              -999              -999   \n",
              "4             -999              -999              -999              -999   \n",
              "...            ...               ...               ...               ...   \n",
              "49100          120               120               120                60   \n",
              "49101          120               120               120                60   \n",
              "49102          220               120               120                60   \n",
              "49103          220                 0                 0                 0   \n",
              "49104          220                 0                 0                 0   \n",
              "\n",
              "       Moderate Wind NW  High Wind NE  High Wind SE  High Wind SW  \\\n",
              "0                  -999          -999          -999          -999   \n",
              "1                  -999          -999          -999          -999   \n",
              "2                  -999          -999          -999          -999   \n",
              "3                  -999          -999          -999          -999   \n",
              "4                  -999          -999          -999          -999   \n",
              "...                 ...           ...           ...           ...   \n",
              "49100                 0             0             0             0   \n",
              "49101                 0             0             0             0   \n",
              "49102                 0             0             0             0   \n",
              "49103                 0             0             0             0   \n",
              "49104                 0             0             0             0   \n",
              "\n",
              "       High Wind NW  \n",
              "0              -999  \n",
              "1              -999  \n",
              "2              -999  \n",
              "3              -999  \n",
              "4              -999  \n",
              "...             ...  \n",
              "49100             0  \n",
              "49101             0  \n",
              "49102             0  \n",
              "49103             0  \n",
              "49104             0  \n",
              "\n",
              "[49105 rows x 22 columns]"
            ],
            "text/html": [
              "\n",
              "  <div id=\"df-32258e3d-0465-4e4a-bcd8-f135f63ec36e\">\n",
              "    <div class=\"colab-df-container\">\n",
              "      <div>\n",
              "<style scoped>\n",
              "    .dataframe tbody tr th:only-of-type {\n",
              "        vertical-align: middle;\n",
              "    }\n",
              "\n",
              "    .dataframe tbody tr th {\n",
              "        vertical-align: top;\n",
              "    }\n",
              "\n",
              "    .dataframe thead th {\n",
              "        text-align: right;\n",
              "    }\n",
              "</style>\n",
              "<table border=\"1\" class=\"dataframe\">\n",
              "  <thead>\n",
              "    <tr style=\"text-align: right;\">\n",
              "      <th></th>\n",
              "      <th>ID</th>\n",
              "      <th>Name</th>\n",
              "      <th>Date</th>\n",
              "      <th>Time</th>\n",
              "      <th>Event</th>\n",
              "      <th>Status</th>\n",
              "      <th>Latitude</th>\n",
              "      <th>Longitude</th>\n",
              "      <th>Maximum Wind</th>\n",
              "      <th>Minimum Pressure</th>\n",
              "      <th>...</th>\n",
              "      <th>Low Wind SW</th>\n",
              "      <th>Low Wind NW</th>\n",
              "      <th>Moderate Wind NE</th>\n",
              "      <th>Moderate Wind SE</th>\n",
              "      <th>Moderate Wind SW</th>\n",
              "      <th>Moderate Wind NW</th>\n",
              "      <th>High Wind NE</th>\n",
              "      <th>High Wind SE</th>\n",
              "      <th>High Wind SW</th>\n",
              "      <th>High Wind NW</th>\n",
              "    </tr>\n",
              "  </thead>\n",
              "  <tbody>\n",
              "    <tr>\n",
              "      <th>0</th>\n",
              "      <td>AL011851</td>\n",
              "      <td>UNNAMED</td>\n",
              "      <td>18510625</td>\n",
              "      <td>0</td>\n",
              "      <td></td>\n",
              "      <td>HU</td>\n",
              "      <td>28.0N</td>\n",
              "      <td>94.8W</td>\n",
              "      <td>80</td>\n",
              "      <td>-999</td>\n",
              "      <td>...</td>\n",
              "      <td>-999</td>\n",
              "      <td>-999</td>\n",
              "      <td>-999</td>\n",
              "      <td>-999</td>\n",
              "      <td>-999</td>\n",
              "      <td>-999</td>\n",
              "      <td>-999</td>\n",
              "      <td>-999</td>\n",
              "      <td>-999</td>\n",
              "      <td>-999</td>\n",
              "    </tr>\n",
              "    <tr>\n",
              "      <th>1</th>\n",
              "      <td>AL011851</td>\n",
              "      <td>UNNAMED</td>\n",
              "      <td>18510625</td>\n",
              "      <td>600</td>\n",
              "      <td></td>\n",
              "      <td>HU</td>\n",
              "      <td>28.0N</td>\n",
              "      <td>95.4W</td>\n",
              "      <td>80</td>\n",
              "      <td>-999</td>\n",
              "      <td>...</td>\n",
              "      <td>-999</td>\n",
              "      <td>-999</td>\n",
              "      <td>-999</td>\n",
              "      <td>-999</td>\n",
              "      <td>-999</td>\n",
              "      <td>-999</td>\n",
              "      <td>-999</td>\n",
              "      <td>-999</td>\n",
              "      <td>-999</td>\n",
              "      <td>-999</td>\n",
              "    </tr>\n",
              "    <tr>\n",
              "      <th>2</th>\n",
              "      <td>AL011851</td>\n",
              "      <td>UNNAMED</td>\n",
              "      <td>18510625</td>\n",
              "      <td>1200</td>\n",
              "      <td></td>\n",
              "      <td>HU</td>\n",
              "      <td>28.0N</td>\n",
              "      <td>96.0W</td>\n",
              "      <td>80</td>\n",
              "      <td>-999</td>\n",
              "      <td>...</td>\n",
              "      <td>-999</td>\n",
              "      <td>-999</td>\n",
              "      <td>-999</td>\n",
              "      <td>-999</td>\n",
              "      <td>-999</td>\n",
              "      <td>-999</td>\n",
              "      <td>-999</td>\n",
              "      <td>-999</td>\n",
              "      <td>-999</td>\n",
              "      <td>-999</td>\n",
              "    </tr>\n",
              "    <tr>\n",
              "      <th>3</th>\n",
              "      <td>AL011851</td>\n",
              "      <td>UNNAMED</td>\n",
              "      <td>18510625</td>\n",
              "      <td>1800</td>\n",
              "      <td></td>\n",
              "      <td>HU</td>\n",
              "      <td>28.1N</td>\n",
              "      <td>96.5W</td>\n",
              "      <td>80</td>\n",
              "      <td>-999</td>\n",
              "      <td>...</td>\n",
              "      <td>-999</td>\n",
              "      <td>-999</td>\n",
              "      <td>-999</td>\n",
              "      <td>-999</td>\n",
              "      <td>-999</td>\n",
              "      <td>-999</td>\n",
              "      <td>-999</td>\n",
              "      <td>-999</td>\n",
              "      <td>-999</td>\n",
              "      <td>-999</td>\n",
              "    </tr>\n",
              "    <tr>\n",
              "      <th>4</th>\n",
              "      <td>AL011851</td>\n",
              "      <td>UNNAMED</td>\n",
              "      <td>18510625</td>\n",
              "      <td>2100</td>\n",
              "      <td>L</td>\n",
              "      <td>HU</td>\n",
              "      <td>28.2N</td>\n",
              "      <td>96.8W</td>\n",
              "      <td>80</td>\n",
              "      <td>-999</td>\n",
              "      <td>...</td>\n",
              "      <td>-999</td>\n",
              "      <td>-999</td>\n",
              "      <td>-999</td>\n",
              "      <td>-999</td>\n",
              "      <td>-999</td>\n",
              "      <td>-999</td>\n",
              "      <td>-999</td>\n",
              "      <td>-999</td>\n",
              "      <td>-999</td>\n",
              "      <td>-999</td>\n",
              "    </tr>\n",
              "    <tr>\n",
              "      <th>...</th>\n",
              "      <td>...</td>\n",
              "      <td>...</td>\n",
              "      <td>...</td>\n",
              "      <td>...</td>\n",
              "      <td>...</td>\n",
              "      <td>...</td>\n",
              "      <td>...</td>\n",
              "      <td>...</td>\n",
              "      <td>...</td>\n",
              "      <td>...</td>\n",
              "      <td>...</td>\n",
              "      <td>...</td>\n",
              "      <td>...</td>\n",
              "      <td>...</td>\n",
              "      <td>...</td>\n",
              "      <td>...</td>\n",
              "      <td>...</td>\n",
              "      <td>...</td>\n",
              "      <td>...</td>\n",
              "      <td>...</td>\n",
              "      <td>...</td>\n",
              "    </tr>\n",
              "    <tr>\n",
              "      <th>49100</th>\n",
              "      <td>AL122015</td>\n",
              "      <td>KATE</td>\n",
              "      <td>20151112</td>\n",
              "      <td>1200</td>\n",
              "      <td></td>\n",
              "      <td>EX</td>\n",
              "      <td>41.3N</td>\n",
              "      <td>50.4W</td>\n",
              "      <td>55</td>\n",
              "      <td>981</td>\n",
              "      <td>...</td>\n",
              "      <td>180</td>\n",
              "      <td>120</td>\n",
              "      <td>120</td>\n",
              "      <td>120</td>\n",
              "      <td>60</td>\n",
              "      <td>0</td>\n",
              "      <td>0</td>\n",
              "      <td>0</td>\n",
              "      <td>0</td>\n",
              "      <td>0</td>\n",
              "    </tr>\n",
              "    <tr>\n",
              "      <th>49101</th>\n",
              "      <td>AL122015</td>\n",
              "      <td>KATE</td>\n",
              "      <td>20151112</td>\n",
              "      <td>1800</td>\n",
              "      <td></td>\n",
              "      <td>EX</td>\n",
              "      <td>41.9N</td>\n",
              "      <td>49.9W</td>\n",
              "      <td>55</td>\n",
              "      <td>983</td>\n",
              "      <td>...</td>\n",
              "      <td>180</td>\n",
              "      <td>120</td>\n",
              "      <td>120</td>\n",
              "      <td>120</td>\n",
              "      <td>60</td>\n",
              "      <td>0</td>\n",
              "      <td>0</td>\n",
              "      <td>0</td>\n",
              "      <td>0</td>\n",
              "      <td>0</td>\n",
              "    </tr>\n",
              "    <tr>\n",
              "      <th>49102</th>\n",
              "      <td>AL122015</td>\n",
              "      <td>KATE</td>\n",
              "      <td>20151113</td>\n",
              "      <td>0</td>\n",
              "      <td></td>\n",
              "      <td>EX</td>\n",
              "      <td>41.5N</td>\n",
              "      <td>49.2W</td>\n",
              "      <td>50</td>\n",
              "      <td>985</td>\n",
              "      <td>...</td>\n",
              "      <td>200</td>\n",
              "      <td>220</td>\n",
              "      <td>120</td>\n",
              "      <td>120</td>\n",
              "      <td>60</td>\n",
              "      <td>0</td>\n",
              "      <td>0</td>\n",
              "      <td>0</td>\n",
              "      <td>0</td>\n",
              "      <td>0</td>\n",
              "    </tr>\n",
              "    <tr>\n",
              "      <th>49103</th>\n",
              "      <td>AL122015</td>\n",
              "      <td>KATE</td>\n",
              "      <td>20151113</td>\n",
              "      <td>600</td>\n",
              "      <td></td>\n",
              "      <td>EX</td>\n",
              "      <td>40.8N</td>\n",
              "      <td>47.5W</td>\n",
              "      <td>45</td>\n",
              "      <td>985</td>\n",
              "      <td>...</td>\n",
              "      <td>180</td>\n",
              "      <td>220</td>\n",
              "      <td>0</td>\n",
              "      <td>0</td>\n",
              "      <td>0</td>\n",
              "      <td>0</td>\n",
              "      <td>0</td>\n",
              "      <td>0</td>\n",
              "      <td>0</td>\n",
              "      <td>0</td>\n",
              "    </tr>\n",
              "    <tr>\n",
              "      <th>49104</th>\n",
              "      <td>AL122015</td>\n",
              "      <td>KATE</td>\n",
              "      <td>20151113</td>\n",
              "      <td>1200</td>\n",
              "      <td></td>\n",
              "      <td>EX</td>\n",
              "      <td>40.7N</td>\n",
              "      <td>45.4W</td>\n",
              "      <td>45</td>\n",
              "      <td>987</td>\n",
              "      <td>...</td>\n",
              "      <td>150</td>\n",
              "      <td>220</td>\n",
              "      <td>0</td>\n",
              "      <td>0</td>\n",
              "      <td>0</td>\n",
              "      <td>0</td>\n",
              "      <td>0</td>\n",
              "      <td>0</td>\n",
              "      <td>0</td>\n",
              "      <td>0</td>\n",
              "    </tr>\n",
              "  </tbody>\n",
              "</table>\n",
              "<p>49105 rows × 22 columns</p>\n",
              "</div>\n",
              "      <button class=\"colab-df-convert\" onclick=\"convertToInteractive('df-32258e3d-0465-4e4a-bcd8-f135f63ec36e')\"\n",
              "              title=\"Convert this dataframe to an interactive table.\"\n",
              "              style=\"display:none;\">\n",
              "        \n",
              "  <svg xmlns=\"http://www.w3.org/2000/svg\" height=\"24px\"viewBox=\"0 0 24 24\"\n",
              "       width=\"24px\">\n",
              "    <path d=\"M0 0h24v24H0V0z\" fill=\"none\"/>\n",
              "    <path d=\"M18.56 5.44l.94 2.06.94-2.06 2.06-.94-2.06-.94-.94-2.06-.94 2.06-2.06.94zm-11 1L8.5 8.5l.94-2.06 2.06-.94-2.06-.94L8.5 2.5l-.94 2.06-2.06.94zm10 10l.94 2.06.94-2.06 2.06-.94-2.06-.94-.94-2.06-.94 2.06-2.06.94z\"/><path d=\"M17.41 7.96l-1.37-1.37c-.4-.4-.92-.59-1.43-.59-.52 0-1.04.2-1.43.59L10.3 9.45l-7.72 7.72c-.78.78-.78 2.05 0 2.83L4 21.41c.39.39.9.59 1.41.59.51 0 1.02-.2 1.41-.59l7.78-7.78 2.81-2.81c.8-.78.8-2.07 0-2.86zM5.41 20L4 18.59l7.72-7.72 1.47 1.35L5.41 20z\"/>\n",
              "  </svg>\n",
              "      </button>\n",
              "      \n",
              "  <style>\n",
              "    .colab-df-container {\n",
              "      display:flex;\n",
              "      flex-wrap:wrap;\n",
              "      gap: 12px;\n",
              "    }\n",
              "\n",
              "    .colab-df-convert {\n",
              "      background-color: #E8F0FE;\n",
              "      border: none;\n",
              "      border-radius: 50%;\n",
              "      cursor: pointer;\n",
              "      display: none;\n",
              "      fill: #1967D2;\n",
              "      height: 32px;\n",
              "      padding: 0 0 0 0;\n",
              "      width: 32px;\n",
              "    }\n",
              "\n",
              "    .colab-df-convert:hover {\n",
              "      background-color: #E2EBFA;\n",
              "      box-shadow: 0px 1px 2px rgba(60, 64, 67, 0.3), 0px 1px 3px 1px rgba(60, 64, 67, 0.15);\n",
              "      fill: #174EA6;\n",
              "    }\n",
              "\n",
              "    [theme=dark] .colab-df-convert {\n",
              "      background-color: #3B4455;\n",
              "      fill: #D2E3FC;\n",
              "    }\n",
              "\n",
              "    [theme=dark] .colab-df-convert:hover {\n",
              "      background-color: #434B5C;\n",
              "      box-shadow: 0px 1px 3px 1px rgba(0, 0, 0, 0.15);\n",
              "      filter: drop-shadow(0px 1px 2px rgba(0, 0, 0, 0.3));\n",
              "      fill: #FFFFFF;\n",
              "    }\n",
              "  </style>\n",
              "\n",
              "      <script>\n",
              "        const buttonEl =\n",
              "          document.querySelector('#df-32258e3d-0465-4e4a-bcd8-f135f63ec36e button.colab-df-convert');\n",
              "        buttonEl.style.display =\n",
              "          google.colab.kernel.accessAllowed ? 'block' : 'none';\n",
              "\n",
              "        async function convertToInteractive(key) {\n",
              "          const element = document.querySelector('#df-32258e3d-0465-4e4a-bcd8-f135f63ec36e');\n",
              "          const dataTable =\n",
              "            await google.colab.kernel.invokeFunction('convertToInteractive',\n",
              "                                                     [key], {});\n",
              "          if (!dataTable) return;\n",
              "\n",
              "          const docLinkHtml = 'Like what you see? Visit the ' +\n",
              "            '<a target=\"_blank\" href=https://colab.research.google.com/notebooks/data_table.ipynb>data table notebook</a>'\n",
              "            + ' to learn more about interactive tables.';\n",
              "          element.innerHTML = '';\n",
              "          dataTable['output_type'] = 'display_data';\n",
              "          await google.colab.output.renderOutput(dataTable, element);\n",
              "          const docLink = document.createElement('div');\n",
              "          docLink.innerHTML = docLinkHtml;\n",
              "          element.appendChild(docLink);\n",
              "        }\n",
              "      </script>\n",
              "    </div>\n",
              "  </div>\n",
              "  "
            ]
          },
          "metadata": {},
          "execution_count": 4
        }
      ]
    },
    {
      "cell_type": "code",
      "source": [
        "df.shape"
      ],
      "metadata": {
        "colab": {
          "base_uri": "https://localhost:8080/"
        },
        "id": "dJ11NkoLdqDg",
        "outputId": "997be5e2-1d5c-4435-caf6-1ff71eb277de"
      },
      "execution_count": 5,
      "outputs": [
        {
          "output_type": "execute_result",
          "data": {
            "text/plain": [
              "(49105, 22)"
            ]
          },
          "metadata": {},
          "execution_count": 5
        }
      ]
    },
    {
      "cell_type": "code",
      "source": [
        "df.isna().sum().any()"
      ],
      "metadata": {
        "colab": {
          "base_uri": "https://localhost:8080/"
        },
        "id": "GD769knoduN4",
        "outputId": "1e3827a1-e257-46a8-d547-9ff6eb41b0af"
      },
      "execution_count": 6,
      "outputs": [
        {
          "output_type": "execute_result",
          "data": {
            "text/plain": [
              "False"
            ]
          },
          "metadata": {},
          "execution_count": 6
        }
      ]
    },
    {
      "cell_type": "code",
      "source": [
        "df.Status.unique()"
      ],
      "metadata": {
        "colab": {
          "base_uri": "https://localhost:8080/"
        },
        "id": "K-dTdUrEdweD",
        "outputId": "9aae1fe3-b88d-4da7-d876-6552e8cb565e"
      },
      "execution_count": 7,
      "outputs": [
        {
          "output_type": "execute_result",
          "data": {
            "text/plain": [
              "array([' HU', ' TS', ' EX', ' TD', ' LO', ' DB', ' SD', ' SS', ' WV'],\n",
              "      dtype=object)"
            ]
          },
          "metadata": {},
          "execution_count": 7
        }
      ]
    },
    {
      "cell_type": "code",
      "source": [
        "def convert(x):\n",
        "  if str(x)[-1] == 'N':\n",
        "    return float(str(x).replace('N', ''))\n",
        "  elif str(x)[-1] == 'S':\n",
        "    return float('-' + str(x).replace('S', ''))\n",
        "  elif str(x)[-1] == 'E':\n",
        "    return float(str(x).replace('E', ''))\n",
        "  elif str(x)[-1] == 'W':\n",
        "    return float('-' + str(x).replace('W', ''))\n",
        "directions =['N', 'S', 'E', 'W']\n",
        "for dir_ in directions:\n",
        "    df.loc[:,'Latitude'] = df['Latitude'].apply(lambda x : str(x).replace(dir_,''))\n",
        "    df.loc[:,'Longitude'] = df['Longitude'].apply(lambda x : str(x).replace(dir_,''))\n",
        "df['Latitude'].astype(float)\n",
        "df['Longitude'].astype(float)"
      ],
      "metadata": {
        "colab": {
          "base_uri": "https://localhost:8080/"
        },
        "id": "wvO9DkM1d1BB",
        "outputId": "00845a2c-f31b-4be4-86c3-4da7e5eace82"
      },
      "execution_count": 8,
      "outputs": [
        {
          "output_type": "execute_result",
          "data": {
            "text/plain": [
              "0        94.8\n",
              "1        95.4\n",
              "2        96.0\n",
              "3        96.5\n",
              "4        96.8\n",
              "         ... \n",
              "49100    50.4\n",
              "49101    49.9\n",
              "49102    49.2\n",
              "49103    47.5\n",
              "49104    45.4\n",
              "Name: Longitude, Length: 49105, dtype: float64"
            ]
          },
          "metadata": {},
          "execution_count": 8
        }
      ]
    },
    {
      "cell_type": "code",
      "source": [
        "df"
      ],
      "metadata": {
        "colab": {
          "base_uri": "https://localhost:8080/",
          "height": 522
        },
        "id": "ctbbZ4i3d10A",
        "outputId": "7f98e56b-d483-4281-cf12-ed81802ddec0"
      },
      "execution_count": 9,
      "outputs": [
        {
          "output_type": "execute_result",
          "data": {
            "text/plain": [
              "             ID                 Name      Date  Time Event Status Latitude  \\\n",
              "0      AL011851              UNNAMED  18510625     0           HU     28.0   \n",
              "1      AL011851              UNNAMED  18510625   600           HU     28.0   \n",
              "2      AL011851              UNNAMED  18510625  1200           HU     28.0   \n",
              "3      AL011851              UNNAMED  18510625  1800           HU     28.1   \n",
              "4      AL011851              UNNAMED  18510625  2100     L     HU     28.2   \n",
              "...         ...                  ...       ...   ...   ...    ...      ...   \n",
              "49100  AL122015                 KATE  20151112  1200           EX     41.3   \n",
              "49101  AL122015                 KATE  20151112  1800           EX     41.9   \n",
              "49102  AL122015                 KATE  20151113     0           EX     41.5   \n",
              "49103  AL122015                 KATE  20151113   600           EX     40.8   \n",
              "49104  AL122015                 KATE  20151113  1200           EX     40.7   \n",
              "\n",
              "      Longitude  Maximum Wind  Minimum Pressure  ...  Low Wind SW  \\\n",
              "0          94.8            80              -999  ...         -999   \n",
              "1          95.4            80              -999  ...         -999   \n",
              "2          96.0            80              -999  ...         -999   \n",
              "3          96.5            80              -999  ...         -999   \n",
              "4          96.8            80              -999  ...         -999   \n",
              "...         ...           ...               ...  ...          ...   \n",
              "49100      50.4            55               981  ...          180   \n",
              "49101      49.9            55               983  ...          180   \n",
              "49102      49.2            50               985  ...          200   \n",
              "49103      47.5            45               985  ...          180   \n",
              "49104      45.4            45               987  ...          150   \n",
              "\n",
              "       Low Wind NW  Moderate Wind NE  Moderate Wind SE  Moderate Wind SW  \\\n",
              "0             -999              -999              -999              -999   \n",
              "1             -999              -999              -999              -999   \n",
              "2             -999              -999              -999              -999   \n",
              "3             -999              -999              -999              -999   \n",
              "4             -999              -999              -999              -999   \n",
              "...            ...               ...               ...               ...   \n",
              "49100          120               120               120                60   \n",
              "49101          120               120               120                60   \n",
              "49102          220               120               120                60   \n",
              "49103          220                 0                 0                 0   \n",
              "49104          220                 0                 0                 0   \n",
              "\n",
              "       Moderate Wind NW  High Wind NE  High Wind SE  High Wind SW  \\\n",
              "0                  -999          -999          -999          -999   \n",
              "1                  -999          -999          -999          -999   \n",
              "2                  -999          -999          -999          -999   \n",
              "3                  -999          -999          -999          -999   \n",
              "4                  -999          -999          -999          -999   \n",
              "...                 ...           ...           ...           ...   \n",
              "49100                 0             0             0             0   \n",
              "49101                 0             0             0             0   \n",
              "49102                 0             0             0             0   \n",
              "49103                 0             0             0             0   \n",
              "49104                 0             0             0             0   \n",
              "\n",
              "       High Wind NW  \n",
              "0              -999  \n",
              "1              -999  \n",
              "2              -999  \n",
              "3              -999  \n",
              "4              -999  \n",
              "...             ...  \n",
              "49100             0  \n",
              "49101             0  \n",
              "49102             0  \n",
              "49103             0  \n",
              "49104             0  \n",
              "\n",
              "[49105 rows x 22 columns]"
            ],
            "text/html": [
              "\n",
              "  <div id=\"df-46191ea4-56d6-4e8f-92bf-23c0835c7cb9\">\n",
              "    <div class=\"colab-df-container\">\n",
              "      <div>\n",
              "<style scoped>\n",
              "    .dataframe tbody tr th:only-of-type {\n",
              "        vertical-align: middle;\n",
              "    }\n",
              "\n",
              "    .dataframe tbody tr th {\n",
              "        vertical-align: top;\n",
              "    }\n",
              "\n",
              "    .dataframe thead th {\n",
              "        text-align: right;\n",
              "    }\n",
              "</style>\n",
              "<table border=\"1\" class=\"dataframe\">\n",
              "  <thead>\n",
              "    <tr style=\"text-align: right;\">\n",
              "      <th></th>\n",
              "      <th>ID</th>\n",
              "      <th>Name</th>\n",
              "      <th>Date</th>\n",
              "      <th>Time</th>\n",
              "      <th>Event</th>\n",
              "      <th>Status</th>\n",
              "      <th>Latitude</th>\n",
              "      <th>Longitude</th>\n",
              "      <th>Maximum Wind</th>\n",
              "      <th>Minimum Pressure</th>\n",
              "      <th>...</th>\n",
              "      <th>Low Wind SW</th>\n",
              "      <th>Low Wind NW</th>\n",
              "      <th>Moderate Wind NE</th>\n",
              "      <th>Moderate Wind SE</th>\n",
              "      <th>Moderate Wind SW</th>\n",
              "      <th>Moderate Wind NW</th>\n",
              "      <th>High Wind NE</th>\n",
              "      <th>High Wind SE</th>\n",
              "      <th>High Wind SW</th>\n",
              "      <th>High Wind NW</th>\n",
              "    </tr>\n",
              "  </thead>\n",
              "  <tbody>\n",
              "    <tr>\n",
              "      <th>0</th>\n",
              "      <td>AL011851</td>\n",
              "      <td>UNNAMED</td>\n",
              "      <td>18510625</td>\n",
              "      <td>0</td>\n",
              "      <td></td>\n",
              "      <td>HU</td>\n",
              "      <td>28.0</td>\n",
              "      <td>94.8</td>\n",
              "      <td>80</td>\n",
              "      <td>-999</td>\n",
              "      <td>...</td>\n",
              "      <td>-999</td>\n",
              "      <td>-999</td>\n",
              "      <td>-999</td>\n",
              "      <td>-999</td>\n",
              "      <td>-999</td>\n",
              "      <td>-999</td>\n",
              "      <td>-999</td>\n",
              "      <td>-999</td>\n",
              "      <td>-999</td>\n",
              "      <td>-999</td>\n",
              "    </tr>\n",
              "    <tr>\n",
              "      <th>1</th>\n",
              "      <td>AL011851</td>\n",
              "      <td>UNNAMED</td>\n",
              "      <td>18510625</td>\n",
              "      <td>600</td>\n",
              "      <td></td>\n",
              "      <td>HU</td>\n",
              "      <td>28.0</td>\n",
              "      <td>95.4</td>\n",
              "      <td>80</td>\n",
              "      <td>-999</td>\n",
              "      <td>...</td>\n",
              "      <td>-999</td>\n",
              "      <td>-999</td>\n",
              "      <td>-999</td>\n",
              "      <td>-999</td>\n",
              "      <td>-999</td>\n",
              "      <td>-999</td>\n",
              "      <td>-999</td>\n",
              "      <td>-999</td>\n",
              "      <td>-999</td>\n",
              "      <td>-999</td>\n",
              "    </tr>\n",
              "    <tr>\n",
              "      <th>2</th>\n",
              "      <td>AL011851</td>\n",
              "      <td>UNNAMED</td>\n",
              "      <td>18510625</td>\n",
              "      <td>1200</td>\n",
              "      <td></td>\n",
              "      <td>HU</td>\n",
              "      <td>28.0</td>\n",
              "      <td>96.0</td>\n",
              "      <td>80</td>\n",
              "      <td>-999</td>\n",
              "      <td>...</td>\n",
              "      <td>-999</td>\n",
              "      <td>-999</td>\n",
              "      <td>-999</td>\n",
              "      <td>-999</td>\n",
              "      <td>-999</td>\n",
              "      <td>-999</td>\n",
              "      <td>-999</td>\n",
              "      <td>-999</td>\n",
              "      <td>-999</td>\n",
              "      <td>-999</td>\n",
              "    </tr>\n",
              "    <tr>\n",
              "      <th>3</th>\n",
              "      <td>AL011851</td>\n",
              "      <td>UNNAMED</td>\n",
              "      <td>18510625</td>\n",
              "      <td>1800</td>\n",
              "      <td></td>\n",
              "      <td>HU</td>\n",
              "      <td>28.1</td>\n",
              "      <td>96.5</td>\n",
              "      <td>80</td>\n",
              "      <td>-999</td>\n",
              "      <td>...</td>\n",
              "      <td>-999</td>\n",
              "      <td>-999</td>\n",
              "      <td>-999</td>\n",
              "      <td>-999</td>\n",
              "      <td>-999</td>\n",
              "      <td>-999</td>\n",
              "      <td>-999</td>\n",
              "      <td>-999</td>\n",
              "      <td>-999</td>\n",
              "      <td>-999</td>\n",
              "    </tr>\n",
              "    <tr>\n",
              "      <th>4</th>\n",
              "      <td>AL011851</td>\n",
              "      <td>UNNAMED</td>\n",
              "      <td>18510625</td>\n",
              "      <td>2100</td>\n",
              "      <td>L</td>\n",
              "      <td>HU</td>\n",
              "      <td>28.2</td>\n",
              "      <td>96.8</td>\n",
              "      <td>80</td>\n",
              "      <td>-999</td>\n",
              "      <td>...</td>\n",
              "      <td>-999</td>\n",
              "      <td>-999</td>\n",
              "      <td>-999</td>\n",
              "      <td>-999</td>\n",
              "      <td>-999</td>\n",
              "      <td>-999</td>\n",
              "      <td>-999</td>\n",
              "      <td>-999</td>\n",
              "      <td>-999</td>\n",
              "      <td>-999</td>\n",
              "    </tr>\n",
              "    <tr>\n",
              "      <th>...</th>\n",
              "      <td>...</td>\n",
              "      <td>...</td>\n",
              "      <td>...</td>\n",
              "      <td>...</td>\n",
              "      <td>...</td>\n",
              "      <td>...</td>\n",
              "      <td>...</td>\n",
              "      <td>...</td>\n",
              "      <td>...</td>\n",
              "      <td>...</td>\n",
              "      <td>...</td>\n",
              "      <td>...</td>\n",
              "      <td>...</td>\n",
              "      <td>...</td>\n",
              "      <td>...</td>\n",
              "      <td>...</td>\n",
              "      <td>...</td>\n",
              "      <td>...</td>\n",
              "      <td>...</td>\n",
              "      <td>...</td>\n",
              "      <td>...</td>\n",
              "    </tr>\n",
              "    <tr>\n",
              "      <th>49100</th>\n",
              "      <td>AL122015</td>\n",
              "      <td>KATE</td>\n",
              "      <td>20151112</td>\n",
              "      <td>1200</td>\n",
              "      <td></td>\n",
              "      <td>EX</td>\n",
              "      <td>41.3</td>\n",
              "      <td>50.4</td>\n",
              "      <td>55</td>\n",
              "      <td>981</td>\n",
              "      <td>...</td>\n",
              "      <td>180</td>\n",
              "      <td>120</td>\n",
              "      <td>120</td>\n",
              "      <td>120</td>\n",
              "      <td>60</td>\n",
              "      <td>0</td>\n",
              "      <td>0</td>\n",
              "      <td>0</td>\n",
              "      <td>0</td>\n",
              "      <td>0</td>\n",
              "    </tr>\n",
              "    <tr>\n",
              "      <th>49101</th>\n",
              "      <td>AL122015</td>\n",
              "      <td>KATE</td>\n",
              "      <td>20151112</td>\n",
              "      <td>1800</td>\n",
              "      <td></td>\n",
              "      <td>EX</td>\n",
              "      <td>41.9</td>\n",
              "      <td>49.9</td>\n",
              "      <td>55</td>\n",
              "      <td>983</td>\n",
              "      <td>...</td>\n",
              "      <td>180</td>\n",
              "      <td>120</td>\n",
              "      <td>120</td>\n",
              "      <td>120</td>\n",
              "      <td>60</td>\n",
              "      <td>0</td>\n",
              "      <td>0</td>\n",
              "      <td>0</td>\n",
              "      <td>0</td>\n",
              "      <td>0</td>\n",
              "    </tr>\n",
              "    <tr>\n",
              "      <th>49102</th>\n",
              "      <td>AL122015</td>\n",
              "      <td>KATE</td>\n",
              "      <td>20151113</td>\n",
              "      <td>0</td>\n",
              "      <td></td>\n",
              "      <td>EX</td>\n",
              "      <td>41.5</td>\n",
              "      <td>49.2</td>\n",
              "      <td>50</td>\n",
              "      <td>985</td>\n",
              "      <td>...</td>\n",
              "      <td>200</td>\n",
              "      <td>220</td>\n",
              "      <td>120</td>\n",
              "      <td>120</td>\n",
              "      <td>60</td>\n",
              "      <td>0</td>\n",
              "      <td>0</td>\n",
              "      <td>0</td>\n",
              "      <td>0</td>\n",
              "      <td>0</td>\n",
              "    </tr>\n",
              "    <tr>\n",
              "      <th>49103</th>\n",
              "      <td>AL122015</td>\n",
              "      <td>KATE</td>\n",
              "      <td>20151113</td>\n",
              "      <td>600</td>\n",
              "      <td></td>\n",
              "      <td>EX</td>\n",
              "      <td>40.8</td>\n",
              "      <td>47.5</td>\n",
              "      <td>45</td>\n",
              "      <td>985</td>\n",
              "      <td>...</td>\n",
              "      <td>180</td>\n",
              "      <td>220</td>\n",
              "      <td>0</td>\n",
              "      <td>0</td>\n",
              "      <td>0</td>\n",
              "      <td>0</td>\n",
              "      <td>0</td>\n",
              "      <td>0</td>\n",
              "      <td>0</td>\n",
              "      <td>0</td>\n",
              "    </tr>\n",
              "    <tr>\n",
              "      <th>49104</th>\n",
              "      <td>AL122015</td>\n",
              "      <td>KATE</td>\n",
              "      <td>20151113</td>\n",
              "      <td>1200</td>\n",
              "      <td></td>\n",
              "      <td>EX</td>\n",
              "      <td>40.7</td>\n",
              "      <td>45.4</td>\n",
              "      <td>45</td>\n",
              "      <td>987</td>\n",
              "      <td>...</td>\n",
              "      <td>150</td>\n",
              "      <td>220</td>\n",
              "      <td>0</td>\n",
              "      <td>0</td>\n",
              "      <td>0</td>\n",
              "      <td>0</td>\n",
              "      <td>0</td>\n",
              "      <td>0</td>\n",
              "      <td>0</td>\n",
              "      <td>0</td>\n",
              "    </tr>\n",
              "  </tbody>\n",
              "</table>\n",
              "<p>49105 rows × 22 columns</p>\n",
              "</div>\n",
              "      <button class=\"colab-df-convert\" onclick=\"convertToInteractive('df-46191ea4-56d6-4e8f-92bf-23c0835c7cb9')\"\n",
              "              title=\"Convert this dataframe to an interactive table.\"\n",
              "              style=\"display:none;\">\n",
              "        \n",
              "  <svg xmlns=\"http://www.w3.org/2000/svg\" height=\"24px\"viewBox=\"0 0 24 24\"\n",
              "       width=\"24px\">\n",
              "    <path d=\"M0 0h24v24H0V0z\" fill=\"none\"/>\n",
              "    <path d=\"M18.56 5.44l.94 2.06.94-2.06 2.06-.94-2.06-.94-.94-2.06-.94 2.06-2.06.94zm-11 1L8.5 8.5l.94-2.06 2.06-.94-2.06-.94L8.5 2.5l-.94 2.06-2.06.94zm10 10l.94 2.06.94-2.06 2.06-.94-2.06-.94-.94-2.06-.94 2.06-2.06.94z\"/><path d=\"M17.41 7.96l-1.37-1.37c-.4-.4-.92-.59-1.43-.59-.52 0-1.04.2-1.43.59L10.3 9.45l-7.72 7.72c-.78.78-.78 2.05 0 2.83L4 21.41c.39.39.9.59 1.41.59.51 0 1.02-.2 1.41-.59l7.78-7.78 2.81-2.81c.8-.78.8-2.07 0-2.86zM5.41 20L4 18.59l7.72-7.72 1.47 1.35L5.41 20z\"/>\n",
              "  </svg>\n",
              "      </button>\n",
              "      \n",
              "  <style>\n",
              "    .colab-df-container {\n",
              "      display:flex;\n",
              "      flex-wrap:wrap;\n",
              "      gap: 12px;\n",
              "    }\n",
              "\n",
              "    .colab-df-convert {\n",
              "      background-color: #E8F0FE;\n",
              "      border: none;\n",
              "      border-radius: 50%;\n",
              "      cursor: pointer;\n",
              "      display: none;\n",
              "      fill: #1967D2;\n",
              "      height: 32px;\n",
              "      padding: 0 0 0 0;\n",
              "      width: 32px;\n",
              "    }\n",
              "\n",
              "    .colab-df-convert:hover {\n",
              "      background-color: #E2EBFA;\n",
              "      box-shadow: 0px 1px 2px rgba(60, 64, 67, 0.3), 0px 1px 3px 1px rgba(60, 64, 67, 0.15);\n",
              "      fill: #174EA6;\n",
              "    }\n",
              "\n",
              "    [theme=dark] .colab-df-convert {\n",
              "      background-color: #3B4455;\n",
              "      fill: #D2E3FC;\n",
              "    }\n",
              "\n",
              "    [theme=dark] .colab-df-convert:hover {\n",
              "      background-color: #434B5C;\n",
              "      box-shadow: 0px 1px 3px 1px rgba(0, 0, 0, 0.15);\n",
              "      filter: drop-shadow(0px 1px 2px rgba(0, 0, 0, 0.3));\n",
              "      fill: #FFFFFF;\n",
              "    }\n",
              "  </style>\n",
              "\n",
              "      <script>\n",
              "        const buttonEl =\n",
              "          document.querySelector('#df-46191ea4-56d6-4e8f-92bf-23c0835c7cb9 button.colab-df-convert');\n",
              "        buttonEl.style.display =\n",
              "          google.colab.kernel.accessAllowed ? 'block' : 'none';\n",
              "\n",
              "        async function convertToInteractive(key) {\n",
              "          const element = document.querySelector('#df-46191ea4-56d6-4e8f-92bf-23c0835c7cb9');\n",
              "          const dataTable =\n",
              "            await google.colab.kernel.invokeFunction('convertToInteractive',\n",
              "                                                     [key], {});\n",
              "          if (!dataTable) return;\n",
              "\n",
              "          const docLinkHtml = 'Like what you see? Visit the ' +\n",
              "            '<a target=\"_blank\" href=https://colab.research.google.com/notebooks/data_table.ipynb>data table notebook</a>'\n",
              "            + ' to learn more about interactive tables.';\n",
              "          element.innerHTML = '';\n",
              "          dataTable['output_type'] = 'display_data';\n",
              "          await google.colab.output.renderOutput(dataTable, element);\n",
              "          const docLink = document.createElement('div');\n",
              "          docLink.innerHTML = docLinkHtml;\n",
              "          element.appendChild(docLink);\n",
              "        }\n",
              "      </script>\n",
              "    </div>\n",
              "  </div>\n",
              "  "
            ]
          },
          "metadata": {},
          "execution_count": 9
        }
      ]
    },
    {
      "cell_type": "code",
      "source": [
        "from sklearn.preprocessing import LabelEncoder\n",
        "le = LabelEncoder()\n",
        "df[\"Status\"] = le.fit_transform(df[\"Status\"])"
      ],
      "metadata": {
        "id": "-_IIRWfMd6ib"
      },
      "execution_count": 10,
      "outputs": []
    },
    {
      "cell_type": "code",
      "source": [
        "features = df.iloc[:, 6:22] # Parameters\n",
        "target = df.iloc[:, [5]] #Target\n",
        "features.columns"
      ],
      "metadata": {
        "colab": {
          "base_uri": "https://localhost:8080/"
        },
        "id": "rXFxVi4Ud9Hu",
        "outputId": "dbaf6448-f4c2-4cea-cf11-2cd28b235dca"
      },
      "execution_count": 11,
      "outputs": [
        {
          "output_type": "execute_result",
          "data": {
            "text/plain": [
              "Index(['Latitude', 'Longitude', 'Maximum Wind', 'Minimum Pressure',\n",
              "       'Low Wind NE', 'Low Wind SE', 'Low Wind SW', 'Low Wind NW',\n",
              "       'Moderate Wind NE', 'Moderate Wind SE', 'Moderate Wind SW',\n",
              "       'Moderate Wind NW', 'High Wind NE', 'High Wind SE', 'High Wind SW',\n",
              "       'High Wind NW'],\n",
              "      dtype='object')"
            ]
          },
          "metadata": {},
          "execution_count": 11
        }
      ]
    },
    {
      "cell_type": "code",
      "source": [
        "from sklearn.preprocessing import StandardScaler\n",
        "standardScalerObj = StandardScaler()\n",
        "features_scaled = standardScalerObj.fit_transform(features)\n",
        "features_scaled"
      ],
      "metadata": {
        "colab": {
          "base_uri": "https://localhost:8080/"
        },
        "id": "4x_EfOkvd_AA",
        "outputId": "64fd4579-263b-4730-a137-999ac24acbed"
      },
      "execution_count": 12,
      "outputs": [
        {
          "output_type": "execute_result",
          "data": {
            "text/plain": [
              "array([[ 0.09477251,  1.48476908,  1.01131758, ..., -0.37021209,\n",
              "        -0.37024387, -0.37022567],\n",
              "       [ 0.09477251,  1.51539454,  1.01131758, ..., -0.37021209,\n",
              "        -0.37024387, -0.37022567],\n",
              "       [ 0.09477251,  1.54601999,  1.01131758, ..., -0.37021209,\n",
              "        -0.37024387, -0.37022567],\n",
              "       ...,\n",
              "       [ 1.43435364, -0.84276562, -0.07243402, ...,  2.67764331,\n",
              "         2.6846329 ,  2.68104187],\n",
              "       [ 1.36489388, -0.92953775, -0.25305929, ...,  2.67764331,\n",
              "         2.6846329 ,  2.68104187],\n",
              "       [ 1.35497105, -1.03672685, -0.25305929, ...,  2.67764331,\n",
              "         2.6846329 ,  2.68104187]])"
            ]
          },
          "metadata": {},
          "execution_count": 12
        }
      ]
    },
    {
      "cell_type": "code",
      "source": [
        "from sklearn.model_selection import train_test_split\n",
        "x_train, x_test, y_train, y_test =train_test_split(features_scaled, np.ravel(target),\n",
        "                                                   stratify = target,\n",
        "                                                   test_size = 0.20)"
      ],
      "metadata": {
        "id": "6zR1-E-xeBpB"
      },
      "execution_count": 34,
      "outputs": []
    },
    {
      "cell_type": "code",
      "source": [
        "x_train.shape, x_test.shape, y_train.shape, y_test.shape"
      ],
      "metadata": {
        "colab": {
          "base_uri": "https://localhost:8080/"
        },
        "id": "ChuCEGoueEQw",
        "outputId": "2a477426-030b-4e4f-b6f6-b4b11cd8456c"
      },
      "execution_count": 35,
      "outputs": [
        {
          "output_type": "execute_result",
          "data": {
            "text/plain": [
              "((39284, 16), (9821, 16), (39284,), (9821,))"
            ]
          },
          "metadata": {},
          "execution_count": 35
        }
      ]
    },
    {
      "cell_type": "code",
      "source": [
        "# Using Logistic Regression Model\n",
        "\n",
        "from sklearn.linear_model import LogisticRegression\n",
        "logisticRegressionModel = LogisticRegression(max_iter = 30000)\n",
        "logisticRegressionModel.fit(x_train,y_train)"
      ],
      "metadata": {
        "colab": {
          "base_uri": "https://localhost:8080/",
          "height": 74
        },
        "id": "J9egqQ58eX8T",
        "outputId": "2117451d-f130-4d7a-d579-22fbeea05e1b"
      },
      "execution_count": 36,
      "outputs": [
        {
          "output_type": "execute_result",
          "data": {
            "text/plain": [
              "LogisticRegression(max_iter=30000)"
            ],
            "text/html": [
              "<style>#sk-container-id-9 {color: black;background-color: white;}#sk-container-id-9 pre{padding: 0;}#sk-container-id-9 div.sk-toggleable {background-color: white;}#sk-container-id-9 label.sk-toggleable__label {cursor: pointer;display: block;width: 100%;margin-bottom: 0;padding: 0.3em;box-sizing: border-box;text-align: center;}#sk-container-id-9 label.sk-toggleable__label-arrow:before {content: \"▸\";float: left;margin-right: 0.25em;color: #696969;}#sk-container-id-9 label.sk-toggleable__label-arrow:hover:before {color: black;}#sk-container-id-9 div.sk-estimator:hover label.sk-toggleable__label-arrow:before {color: black;}#sk-container-id-9 div.sk-toggleable__content {max-height: 0;max-width: 0;overflow: hidden;text-align: left;background-color: #f0f8ff;}#sk-container-id-9 div.sk-toggleable__content pre {margin: 0.2em;color: black;border-radius: 0.25em;background-color: #f0f8ff;}#sk-container-id-9 input.sk-toggleable__control:checked~div.sk-toggleable__content {max-height: 200px;max-width: 100%;overflow: auto;}#sk-container-id-9 input.sk-toggleable__control:checked~label.sk-toggleable__label-arrow:before {content: \"▾\";}#sk-container-id-9 div.sk-estimator input.sk-toggleable__control:checked~label.sk-toggleable__label {background-color: #d4ebff;}#sk-container-id-9 div.sk-label input.sk-toggleable__control:checked~label.sk-toggleable__label {background-color: #d4ebff;}#sk-container-id-9 input.sk-hidden--visually {border: 0;clip: rect(1px 1px 1px 1px);clip: rect(1px, 1px, 1px, 1px);height: 1px;margin: -1px;overflow: hidden;padding: 0;position: absolute;width: 1px;}#sk-container-id-9 div.sk-estimator {font-family: monospace;background-color: #f0f8ff;border: 1px dotted black;border-radius: 0.25em;box-sizing: border-box;margin-bottom: 0.5em;}#sk-container-id-9 div.sk-estimator:hover {background-color: #d4ebff;}#sk-container-id-9 div.sk-parallel-item::after {content: \"\";width: 100%;border-bottom: 1px solid gray;flex-grow: 1;}#sk-container-id-9 div.sk-label:hover label.sk-toggleable__label {background-color: #d4ebff;}#sk-container-id-9 div.sk-serial::before {content: \"\";position: absolute;border-left: 1px solid gray;box-sizing: border-box;top: 0;bottom: 0;left: 50%;z-index: 0;}#sk-container-id-9 div.sk-serial {display: flex;flex-direction: column;align-items: center;background-color: white;padding-right: 0.2em;padding-left: 0.2em;position: relative;}#sk-container-id-9 div.sk-item {position: relative;z-index: 1;}#sk-container-id-9 div.sk-parallel {display: flex;align-items: stretch;justify-content: center;background-color: white;position: relative;}#sk-container-id-9 div.sk-item::before, #sk-container-id-9 div.sk-parallel-item::before {content: \"\";position: absolute;border-left: 1px solid gray;box-sizing: border-box;top: 0;bottom: 0;left: 50%;z-index: -1;}#sk-container-id-9 div.sk-parallel-item {display: flex;flex-direction: column;z-index: 1;position: relative;background-color: white;}#sk-container-id-9 div.sk-parallel-item:first-child::after {align-self: flex-end;width: 50%;}#sk-container-id-9 div.sk-parallel-item:last-child::after {align-self: flex-start;width: 50%;}#sk-container-id-9 div.sk-parallel-item:only-child::after {width: 0;}#sk-container-id-9 div.sk-dashed-wrapped {border: 1px dashed gray;margin: 0 0.4em 0.5em 0.4em;box-sizing: border-box;padding-bottom: 0.4em;background-color: white;}#sk-container-id-9 div.sk-label label {font-family: monospace;font-weight: bold;display: inline-block;line-height: 1.2em;}#sk-container-id-9 div.sk-label-container {text-align: center;}#sk-container-id-9 div.sk-container {/* jupyter's `normalize.less` sets `[hidden] { display: none; }` but bootstrap.min.css set `[hidden] { display: none !important; }` so we also need the `!important` here to be able to override the default hidden behavior on the sphinx rendered scikit-learn.org. See: https://github.com/scikit-learn/scikit-learn/issues/21755 */display: inline-block !important;position: relative;}#sk-container-id-9 div.sk-text-repr-fallback {display: none;}</style><div id=\"sk-container-id-9\" class=\"sk-top-container\"><div class=\"sk-text-repr-fallback\"><pre>LogisticRegression(max_iter=30000)</pre><b>In a Jupyter environment, please rerun this cell to show the HTML representation or trust the notebook. <br />On GitHub, the HTML representation is unable to render, please try loading this page with nbviewer.org.</b></div><div class=\"sk-container\" hidden><div class=\"sk-item\"><div class=\"sk-estimator sk-toggleable\"><input class=\"sk-toggleable__control sk-hidden--visually\" id=\"sk-estimator-id-12\" type=\"checkbox\" checked><label for=\"sk-estimator-id-12\" class=\"sk-toggleable__label sk-toggleable__label-arrow\">LogisticRegression</label><div class=\"sk-toggleable__content\"><pre>LogisticRegression(max_iter=30000)</pre></div></div></div></div></div>"
            ]
          },
          "metadata": {},
          "execution_count": 36
        }
      ]
    },
    {
      "cell_type": "code",
      "source": [
        "from sklearn.metrics import accuracy_score\n",
        "\n",
        "y_pred = logisticRegressionModel.predict(x_test)\n",
        "\n",
        "accuracy = accuracy_score(y_test, y_pred)*100\n",
        "print(\"Accuracy from the Logistic Regression Model is, \", accuracy)"
      ],
      "metadata": {
        "colab": {
          "base_uri": "https://localhost:8080/"
        },
        "id": "LkNIf3zNeds8",
        "outputId": "67b084ea-de23-4391-e5a1-070b88d1e7a3"
      },
      "execution_count": 37,
      "outputs": [
        {
          "output_type": "stream",
          "name": "stdout",
          "text": [
            "Accuracy from the Logistic Regression Model is,  90.59158945117605\n"
          ]
        }
      ]
    },
    {
      "cell_type": "code",
      "source": [
        "# Using support vector machines (SVMs)\n",
        "\n",
        "from sklearn.svm import SVC\n",
        "SVM_model = SVC(kernel=\"linear\", random_state = 4)\n",
        "SVM_model.fit(x_train,y_train)"
      ],
      "metadata": {
        "colab": {
          "base_uri": "https://localhost:8080/",
          "height": 74
        },
        "id": "sRwknoVMeegl",
        "outputId": "4451a147-ef8c-45c9-f19e-ddcd6fa1a7ed"
      },
      "execution_count": 38,
      "outputs": [
        {
          "output_type": "execute_result",
          "data": {
            "text/plain": [
              "SVC(kernel='linear', random_state=4)"
            ],
            "text/html": [
              "<style>#sk-container-id-10 {color: black;background-color: white;}#sk-container-id-10 pre{padding: 0;}#sk-container-id-10 div.sk-toggleable {background-color: white;}#sk-container-id-10 label.sk-toggleable__label {cursor: pointer;display: block;width: 100%;margin-bottom: 0;padding: 0.3em;box-sizing: border-box;text-align: center;}#sk-container-id-10 label.sk-toggleable__label-arrow:before {content: \"▸\";float: left;margin-right: 0.25em;color: #696969;}#sk-container-id-10 label.sk-toggleable__label-arrow:hover:before {color: black;}#sk-container-id-10 div.sk-estimator:hover label.sk-toggleable__label-arrow:before {color: black;}#sk-container-id-10 div.sk-toggleable__content {max-height: 0;max-width: 0;overflow: hidden;text-align: left;background-color: #f0f8ff;}#sk-container-id-10 div.sk-toggleable__content pre {margin: 0.2em;color: black;border-radius: 0.25em;background-color: #f0f8ff;}#sk-container-id-10 input.sk-toggleable__control:checked~div.sk-toggleable__content {max-height: 200px;max-width: 100%;overflow: auto;}#sk-container-id-10 input.sk-toggleable__control:checked~label.sk-toggleable__label-arrow:before {content: \"▾\";}#sk-container-id-10 div.sk-estimator input.sk-toggleable__control:checked~label.sk-toggleable__label {background-color: #d4ebff;}#sk-container-id-10 div.sk-label input.sk-toggleable__control:checked~label.sk-toggleable__label {background-color: #d4ebff;}#sk-container-id-10 input.sk-hidden--visually {border: 0;clip: rect(1px 1px 1px 1px);clip: rect(1px, 1px, 1px, 1px);height: 1px;margin: -1px;overflow: hidden;padding: 0;position: absolute;width: 1px;}#sk-container-id-10 div.sk-estimator {font-family: monospace;background-color: #f0f8ff;border: 1px dotted black;border-radius: 0.25em;box-sizing: border-box;margin-bottom: 0.5em;}#sk-container-id-10 div.sk-estimator:hover {background-color: #d4ebff;}#sk-container-id-10 div.sk-parallel-item::after {content: \"\";width: 100%;border-bottom: 1px solid gray;flex-grow: 1;}#sk-container-id-10 div.sk-label:hover label.sk-toggleable__label {background-color: #d4ebff;}#sk-container-id-10 div.sk-serial::before {content: \"\";position: absolute;border-left: 1px solid gray;box-sizing: border-box;top: 0;bottom: 0;left: 50%;z-index: 0;}#sk-container-id-10 div.sk-serial {display: flex;flex-direction: column;align-items: center;background-color: white;padding-right: 0.2em;padding-left: 0.2em;position: relative;}#sk-container-id-10 div.sk-item {position: relative;z-index: 1;}#sk-container-id-10 div.sk-parallel {display: flex;align-items: stretch;justify-content: center;background-color: white;position: relative;}#sk-container-id-10 div.sk-item::before, #sk-container-id-10 div.sk-parallel-item::before {content: \"\";position: absolute;border-left: 1px solid gray;box-sizing: border-box;top: 0;bottom: 0;left: 50%;z-index: -1;}#sk-container-id-10 div.sk-parallel-item {display: flex;flex-direction: column;z-index: 1;position: relative;background-color: white;}#sk-container-id-10 div.sk-parallel-item:first-child::after {align-self: flex-end;width: 50%;}#sk-container-id-10 div.sk-parallel-item:last-child::after {align-self: flex-start;width: 50%;}#sk-container-id-10 div.sk-parallel-item:only-child::after {width: 0;}#sk-container-id-10 div.sk-dashed-wrapped {border: 1px dashed gray;margin: 0 0.4em 0.5em 0.4em;box-sizing: border-box;padding-bottom: 0.4em;background-color: white;}#sk-container-id-10 div.sk-label label {font-family: monospace;font-weight: bold;display: inline-block;line-height: 1.2em;}#sk-container-id-10 div.sk-label-container {text-align: center;}#sk-container-id-10 div.sk-container {/* jupyter's `normalize.less` sets `[hidden] { display: none; }` but bootstrap.min.css set `[hidden] { display: none !important; }` so we also need the `!important` here to be able to override the default hidden behavior on the sphinx rendered scikit-learn.org. See: https://github.com/scikit-learn/scikit-learn/issues/21755 */display: inline-block !important;position: relative;}#sk-container-id-10 div.sk-text-repr-fallback {display: none;}</style><div id=\"sk-container-id-10\" class=\"sk-top-container\"><div class=\"sk-text-repr-fallback\"><pre>SVC(kernel=&#x27;linear&#x27;, random_state=4)</pre><b>In a Jupyter environment, please rerun this cell to show the HTML representation or trust the notebook. <br />On GitHub, the HTML representation is unable to render, please try loading this page with nbviewer.org.</b></div><div class=\"sk-container\" hidden><div class=\"sk-item\"><div class=\"sk-estimator sk-toggleable\"><input class=\"sk-toggleable__control sk-hidden--visually\" id=\"sk-estimator-id-13\" type=\"checkbox\" checked><label for=\"sk-estimator-id-13\" class=\"sk-toggleable__label sk-toggleable__label-arrow\">SVC</label><div class=\"sk-toggleable__content\"><pre>SVC(kernel=&#x27;linear&#x27;, random_state=4)</pre></div></div></div></div></div>"
            ]
          },
          "metadata": {},
          "execution_count": 38
        }
      ]
    },
    {
      "cell_type": "code",
      "source": [
        "y_pred = SVM_model.predict(x_test)\n",
        "\n",
        "accuracy = accuracy_score(y_test, y_pred)*100\n",
        "print(\"Accuracy from Support Vector Machines is, \", accuracy)"
      ],
      "metadata": {
        "colab": {
          "base_uri": "https://localhost:8080/"
        },
        "id": "XvNV-Ly1ekGX",
        "outputId": "3ff8c19d-a4bf-4cf8-c4a9-c371b073c001"
      },
      "execution_count": 39,
      "outputs": [
        {
          "output_type": "stream",
          "name": "stdout",
          "text": [
            "Accuracy from Support Vector Machines is,  91.31453008858568\n"
          ]
        }
      ]
    },
    {
      "cell_type": "code",
      "source": [
        "# Using Decision Trees\n",
        "\n",
        "from sklearn.tree import DecisionTreeClassifier\n",
        "decisionTreeClassifierModel = DecisionTreeClassifier()\n",
        "decisionTreeClassifierModel.fit(x_train, y_train)"
      ],
      "metadata": {
        "colab": {
          "base_uri": "https://localhost:8080/",
          "height": 74
        },
        "id": "U4KUKe4qep1a",
        "outputId": "4bd9f5a1-3c59-4f13-9311-feb56e3a8e6a"
      },
      "execution_count": 40,
      "outputs": [
        {
          "output_type": "execute_result",
          "data": {
            "text/plain": [
              "DecisionTreeClassifier()"
            ],
            "text/html": [
              "<style>#sk-container-id-11 {color: black;background-color: white;}#sk-container-id-11 pre{padding: 0;}#sk-container-id-11 div.sk-toggleable {background-color: white;}#sk-container-id-11 label.sk-toggleable__label {cursor: pointer;display: block;width: 100%;margin-bottom: 0;padding: 0.3em;box-sizing: border-box;text-align: center;}#sk-container-id-11 label.sk-toggleable__label-arrow:before {content: \"▸\";float: left;margin-right: 0.25em;color: #696969;}#sk-container-id-11 label.sk-toggleable__label-arrow:hover:before {color: black;}#sk-container-id-11 div.sk-estimator:hover label.sk-toggleable__label-arrow:before {color: black;}#sk-container-id-11 div.sk-toggleable__content {max-height: 0;max-width: 0;overflow: hidden;text-align: left;background-color: #f0f8ff;}#sk-container-id-11 div.sk-toggleable__content pre {margin: 0.2em;color: black;border-radius: 0.25em;background-color: #f0f8ff;}#sk-container-id-11 input.sk-toggleable__control:checked~div.sk-toggleable__content {max-height: 200px;max-width: 100%;overflow: auto;}#sk-container-id-11 input.sk-toggleable__control:checked~label.sk-toggleable__label-arrow:before {content: \"▾\";}#sk-container-id-11 div.sk-estimator input.sk-toggleable__control:checked~label.sk-toggleable__label {background-color: #d4ebff;}#sk-container-id-11 div.sk-label input.sk-toggleable__control:checked~label.sk-toggleable__label {background-color: #d4ebff;}#sk-container-id-11 input.sk-hidden--visually {border: 0;clip: rect(1px 1px 1px 1px);clip: rect(1px, 1px, 1px, 1px);height: 1px;margin: -1px;overflow: hidden;padding: 0;position: absolute;width: 1px;}#sk-container-id-11 div.sk-estimator {font-family: monospace;background-color: #f0f8ff;border: 1px dotted black;border-radius: 0.25em;box-sizing: border-box;margin-bottom: 0.5em;}#sk-container-id-11 div.sk-estimator:hover {background-color: #d4ebff;}#sk-container-id-11 div.sk-parallel-item::after {content: \"\";width: 100%;border-bottom: 1px solid gray;flex-grow: 1;}#sk-container-id-11 div.sk-label:hover label.sk-toggleable__label {background-color: #d4ebff;}#sk-container-id-11 div.sk-serial::before {content: \"\";position: absolute;border-left: 1px solid gray;box-sizing: border-box;top: 0;bottom: 0;left: 50%;z-index: 0;}#sk-container-id-11 div.sk-serial {display: flex;flex-direction: column;align-items: center;background-color: white;padding-right: 0.2em;padding-left: 0.2em;position: relative;}#sk-container-id-11 div.sk-item {position: relative;z-index: 1;}#sk-container-id-11 div.sk-parallel {display: flex;align-items: stretch;justify-content: center;background-color: white;position: relative;}#sk-container-id-11 div.sk-item::before, #sk-container-id-11 div.sk-parallel-item::before {content: \"\";position: absolute;border-left: 1px solid gray;box-sizing: border-box;top: 0;bottom: 0;left: 50%;z-index: -1;}#sk-container-id-11 div.sk-parallel-item {display: flex;flex-direction: column;z-index: 1;position: relative;background-color: white;}#sk-container-id-11 div.sk-parallel-item:first-child::after {align-self: flex-end;width: 50%;}#sk-container-id-11 div.sk-parallel-item:last-child::after {align-self: flex-start;width: 50%;}#sk-container-id-11 div.sk-parallel-item:only-child::after {width: 0;}#sk-container-id-11 div.sk-dashed-wrapped {border: 1px dashed gray;margin: 0 0.4em 0.5em 0.4em;box-sizing: border-box;padding-bottom: 0.4em;background-color: white;}#sk-container-id-11 div.sk-label label {font-family: monospace;font-weight: bold;display: inline-block;line-height: 1.2em;}#sk-container-id-11 div.sk-label-container {text-align: center;}#sk-container-id-11 div.sk-container {/* jupyter's `normalize.less` sets `[hidden] { display: none; }` but bootstrap.min.css set `[hidden] { display: none !important; }` so we also need the `!important` here to be able to override the default hidden behavior on the sphinx rendered scikit-learn.org. See: https://github.com/scikit-learn/scikit-learn/issues/21755 */display: inline-block !important;position: relative;}#sk-container-id-11 div.sk-text-repr-fallback {display: none;}</style><div id=\"sk-container-id-11\" class=\"sk-top-container\"><div class=\"sk-text-repr-fallback\"><pre>DecisionTreeClassifier()</pre><b>In a Jupyter environment, please rerun this cell to show the HTML representation or trust the notebook. <br />On GitHub, the HTML representation is unable to render, please try loading this page with nbviewer.org.</b></div><div class=\"sk-container\" hidden><div class=\"sk-item\"><div class=\"sk-estimator sk-toggleable\"><input class=\"sk-toggleable__control sk-hidden--visually\" id=\"sk-estimator-id-14\" type=\"checkbox\" checked><label for=\"sk-estimator-id-14\" class=\"sk-toggleable__label sk-toggleable__label-arrow\">DecisionTreeClassifier</label><div class=\"sk-toggleable__content\"><pre>DecisionTreeClassifier()</pre></div></div></div></div></div>"
            ]
          },
          "metadata": {},
          "execution_count": 40
        }
      ]
    },
    {
      "cell_type": "code",
      "source": [
        "y_pred = decisionTreeClassifierModel.predict(x_test)\n",
        "\n",
        "accuracy = accuracy_score(y_test, y_pred)*100\n",
        "print(\"Accuracy from Decision Tree Classifier is, \", accuracy)"
      ],
      "metadata": {
        "colab": {
          "base_uri": "https://localhost:8080/"
        },
        "id": "T4hcnShqeuPy",
        "outputId": "8dde167e-3cd0-4cc3-c17a-c441ff2e1135"
      },
      "execution_count": 41,
      "outputs": [
        {
          "output_type": "stream",
          "name": "stdout",
          "text": [
            "Accuracy from Decision Tree Classifier is,  90.11302311373586\n"
          ]
        }
      ]
    },
    {
      "cell_type": "code",
      "source": [
        "# Creating an emsemble model out of the models used\n",
        "\n",
        "from sklearn.ensemble import VotingClassifier\n",
        "estimator_models = [(\"Logistic Regression\", logisticRegressionModel),(\"SVM\", SVM_model),(\"Decision Tree Classifier\", decisionTreeClassifierModel)]\n",
        "ensembleModel = VotingClassifier(estimators = estimator_models)\n",
        "ensembleModel.fit(x_train,y_train)"
      ],
      "metadata": {
        "colab": {
          "base_uri": "https://localhost:8080/",
          "height": 109
        },
        "id": "MJ8okgH2euzR",
        "outputId": "3cb18e17-a25d-499c-c975-c6525dcd6165"
      },
      "execution_count": 42,
      "outputs": [
        {
          "output_type": "execute_result",
          "data": {
            "text/plain": [
              "VotingClassifier(estimators=[('Logistic Regression',\n",
              "                              LogisticRegression(max_iter=30000)),\n",
              "                             ('SVM', SVC(kernel='linear', random_state=4)),\n",
              "                             ('Decision Tree Classifier',\n",
              "                              DecisionTreeClassifier())])"
            ],
            "text/html": [
              "<style>#sk-container-id-12 {color: black;background-color: white;}#sk-container-id-12 pre{padding: 0;}#sk-container-id-12 div.sk-toggleable {background-color: white;}#sk-container-id-12 label.sk-toggleable__label {cursor: pointer;display: block;width: 100%;margin-bottom: 0;padding: 0.3em;box-sizing: border-box;text-align: center;}#sk-container-id-12 label.sk-toggleable__label-arrow:before {content: \"▸\";float: left;margin-right: 0.25em;color: #696969;}#sk-container-id-12 label.sk-toggleable__label-arrow:hover:before {color: black;}#sk-container-id-12 div.sk-estimator:hover label.sk-toggleable__label-arrow:before {color: black;}#sk-container-id-12 div.sk-toggleable__content {max-height: 0;max-width: 0;overflow: hidden;text-align: left;background-color: #f0f8ff;}#sk-container-id-12 div.sk-toggleable__content pre {margin: 0.2em;color: black;border-radius: 0.25em;background-color: #f0f8ff;}#sk-container-id-12 input.sk-toggleable__control:checked~div.sk-toggleable__content {max-height: 200px;max-width: 100%;overflow: auto;}#sk-container-id-12 input.sk-toggleable__control:checked~label.sk-toggleable__label-arrow:before {content: \"▾\";}#sk-container-id-12 div.sk-estimator input.sk-toggleable__control:checked~label.sk-toggleable__label {background-color: #d4ebff;}#sk-container-id-12 div.sk-label input.sk-toggleable__control:checked~label.sk-toggleable__label {background-color: #d4ebff;}#sk-container-id-12 input.sk-hidden--visually {border: 0;clip: rect(1px 1px 1px 1px);clip: rect(1px, 1px, 1px, 1px);height: 1px;margin: -1px;overflow: hidden;padding: 0;position: absolute;width: 1px;}#sk-container-id-12 div.sk-estimator {font-family: monospace;background-color: #f0f8ff;border: 1px dotted black;border-radius: 0.25em;box-sizing: border-box;margin-bottom: 0.5em;}#sk-container-id-12 div.sk-estimator:hover {background-color: #d4ebff;}#sk-container-id-12 div.sk-parallel-item::after {content: \"\";width: 100%;border-bottom: 1px solid gray;flex-grow: 1;}#sk-container-id-12 div.sk-label:hover label.sk-toggleable__label {background-color: #d4ebff;}#sk-container-id-12 div.sk-serial::before {content: \"\";position: absolute;border-left: 1px solid gray;box-sizing: border-box;top: 0;bottom: 0;left: 50%;z-index: 0;}#sk-container-id-12 div.sk-serial {display: flex;flex-direction: column;align-items: center;background-color: white;padding-right: 0.2em;padding-left: 0.2em;position: relative;}#sk-container-id-12 div.sk-item {position: relative;z-index: 1;}#sk-container-id-12 div.sk-parallel {display: flex;align-items: stretch;justify-content: center;background-color: white;position: relative;}#sk-container-id-12 div.sk-item::before, #sk-container-id-12 div.sk-parallel-item::before {content: \"\";position: absolute;border-left: 1px solid gray;box-sizing: border-box;top: 0;bottom: 0;left: 50%;z-index: -1;}#sk-container-id-12 div.sk-parallel-item {display: flex;flex-direction: column;z-index: 1;position: relative;background-color: white;}#sk-container-id-12 div.sk-parallel-item:first-child::after {align-self: flex-end;width: 50%;}#sk-container-id-12 div.sk-parallel-item:last-child::after {align-self: flex-start;width: 50%;}#sk-container-id-12 div.sk-parallel-item:only-child::after {width: 0;}#sk-container-id-12 div.sk-dashed-wrapped {border: 1px dashed gray;margin: 0 0.4em 0.5em 0.4em;box-sizing: border-box;padding-bottom: 0.4em;background-color: white;}#sk-container-id-12 div.sk-label label {font-family: monospace;font-weight: bold;display: inline-block;line-height: 1.2em;}#sk-container-id-12 div.sk-label-container {text-align: center;}#sk-container-id-12 div.sk-container {/* jupyter's `normalize.less` sets `[hidden] { display: none; }` but bootstrap.min.css set `[hidden] { display: none !important; }` so we also need the `!important` here to be able to override the default hidden behavior on the sphinx rendered scikit-learn.org. See: https://github.com/scikit-learn/scikit-learn/issues/21755 */display: inline-block !important;position: relative;}#sk-container-id-12 div.sk-text-repr-fallback {display: none;}</style><div id=\"sk-container-id-12\" class=\"sk-top-container\"><div class=\"sk-text-repr-fallback\"><pre>VotingClassifier(estimators=[(&#x27;Logistic Regression&#x27;,\n",
              "                              LogisticRegression(max_iter=30000)),\n",
              "                             (&#x27;SVM&#x27;, SVC(kernel=&#x27;linear&#x27;, random_state=4)),\n",
              "                             (&#x27;Decision Tree Classifier&#x27;,\n",
              "                              DecisionTreeClassifier())])</pre><b>In a Jupyter environment, please rerun this cell to show the HTML representation or trust the notebook. <br />On GitHub, the HTML representation is unable to render, please try loading this page with nbviewer.org.</b></div><div class=\"sk-container\" hidden><div class=\"sk-item sk-dashed-wrapped\"><div class=\"sk-label-container\"><div class=\"sk-label sk-toggleable\"><input class=\"sk-toggleable__control sk-hidden--visually\" id=\"sk-estimator-id-15\" type=\"checkbox\" ><label for=\"sk-estimator-id-15\" class=\"sk-toggleable__label sk-toggleable__label-arrow\">VotingClassifier</label><div class=\"sk-toggleable__content\"><pre>VotingClassifier(estimators=[(&#x27;Logistic Regression&#x27;,\n",
              "                              LogisticRegression(max_iter=30000)),\n",
              "                             (&#x27;SVM&#x27;, SVC(kernel=&#x27;linear&#x27;, random_state=4)),\n",
              "                             (&#x27;Decision Tree Classifier&#x27;,\n",
              "                              DecisionTreeClassifier())])</pre></div></div></div><div class=\"sk-parallel\"><div class=\"sk-parallel-item\"><div class=\"sk-item\"><div class=\"sk-label-container\"><div class=\"sk-label sk-toggleable\"><label>Logistic Regression</label></div></div><div class=\"sk-serial\"><div class=\"sk-item\"><div class=\"sk-estimator sk-toggleable\"><input class=\"sk-toggleable__control sk-hidden--visually\" id=\"sk-estimator-id-16\" type=\"checkbox\" ><label for=\"sk-estimator-id-16\" class=\"sk-toggleable__label sk-toggleable__label-arrow\">LogisticRegression</label><div class=\"sk-toggleable__content\"><pre>LogisticRegression(max_iter=30000)</pre></div></div></div></div></div></div><div class=\"sk-parallel-item\"><div class=\"sk-item\"><div class=\"sk-label-container\"><div class=\"sk-label sk-toggleable\"><label>SVM</label></div></div><div class=\"sk-serial\"><div class=\"sk-item\"><div class=\"sk-estimator sk-toggleable\"><input class=\"sk-toggleable__control sk-hidden--visually\" id=\"sk-estimator-id-17\" type=\"checkbox\" ><label for=\"sk-estimator-id-17\" class=\"sk-toggleable__label sk-toggleable__label-arrow\">SVC</label><div class=\"sk-toggleable__content\"><pre>SVC(kernel=&#x27;linear&#x27;, random_state=4)</pre></div></div></div></div></div></div><div class=\"sk-parallel-item\"><div class=\"sk-item\"><div class=\"sk-label-container\"><div class=\"sk-label sk-toggleable\"><label>Decision Tree Classifier</label></div></div><div class=\"sk-serial\"><div class=\"sk-item\"><div class=\"sk-estimator sk-toggleable\"><input class=\"sk-toggleable__control sk-hidden--visually\" id=\"sk-estimator-id-18\" type=\"checkbox\" ><label for=\"sk-estimator-id-18\" class=\"sk-toggleable__label sk-toggleable__label-arrow\">DecisionTreeClassifier</label><div class=\"sk-toggleable__content\"><pre>DecisionTreeClassifier()</pre></div></div></div></div></div></div></div></div></div></div>"
            ]
          },
          "metadata": {},
          "execution_count": 42
        }
      ]
    },
    {
      "cell_type": "code",
      "source": [
        "y_pred = ensembleModel.predict(x_test)\n",
        "\n",
        "accuracy = accuracy_score(y_test, y_pred)*100\n",
        "print(\"Accuracy from the emsemble model is, \", accuracy)"
      ],
      "metadata": {
        "colab": {
          "base_uri": "https://localhost:8080/"
        },
        "id": "BbROItEYexhs",
        "outputId": "555e5739-1564-4a20-a22f-027d1747e628"
      },
      "execution_count": 43,
      "outputs": [
        {
          "output_type": "stream",
          "name": "stdout",
          "text": [
            "Accuracy from the emsemble model is,  91.42653497607168\n"
          ]
        }
      ]
    },
    {
      "cell_type": "code",
      "source": [
        "# Using K - Fold Cross Validation, so that there is no bias\n",
        "# induced as a result of splitting data, usually used on small datasets\n",
        "\n",
        "from sklearn.model_selection import KFold\n",
        "KFoldObj = KFold()\n",
        "KFoldObj.split(x_train,y_train)\n",
        "KFoldObj"
      ],
      "metadata": {
        "colab": {
          "base_uri": "https://localhost:8080/"
        },
        "id": "S9oCW5sQe133",
        "outputId": "6502ea92-8d92-4c0a-a2e4-b99b264a7f38"
      },
      "execution_count": 44,
      "outputs": [
        {
          "output_type": "execute_result",
          "data": {
            "text/plain": [
              "KFold(n_splits=5, random_state=None, shuffle=False)"
            ]
          },
          "metadata": {},
          "execution_count": 44
        }
      ]
    },
    {
      "cell_type": "code",
      "source": [
        "# Utility to get predictions in a cross validation setting\n",
        "\n",
        "from sklearn.model_selection import cross_val_predict\n",
        "cross_pred = cross_val_predict(ensembleModel, x_test, y_test, cv = KFoldObj)"
      ],
      "metadata": {
        "id": "31V_agnCe4QX"
      },
      "execution_count": 45,
      "outputs": []
    },
    {
      "cell_type": "code",
      "source": [
        "# Utility to get accuracy scores in a cross validation setting\n",
        "\n",
        "from sklearn.model_selection import cross_val_score\n",
        "cross_score = cross_val_score(ensembleModel, x_train, y_train, cv = KFoldObj)\n",
        "accuracy = cross_score.mean()*100\n",
        "print(\"Accuracy from the emsemble model in a K Fold cross validation setting is, \", accuracy)"
      ],
      "metadata": {
        "colab": {
          "base_uri": "https://localhost:8080/"
        },
        "id": "DFw6UGMue47Z",
        "outputId": "f2d64208-9eef-411e-ab98-32f5703714e6"
      },
      "execution_count": 46,
      "outputs": [
        {
          "output_type": "stream",
          "name": "stdout",
          "text": [
            "Accuracy from the emsemble model in a K Fold cross validation setting is,  91.11343206610421\n"
          ]
        }
      ]
    },
    {
      "cell_type": "code",
      "source": [],
      "metadata": {
        "id": "VJsOVZzrfnFG"
      },
      "execution_count": null,
      "outputs": []
    }
  ]
}